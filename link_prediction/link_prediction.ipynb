{
 "cells": [
  {
   "cell_type": "code",
   "execution_count": 1,
   "metadata": {},
   "outputs": [],
   "source": [
    "import networkx as nx\n",
    "import numpy as np\n",
    "import random\n",
    "from sklearn.neural_network import MLPClassifier\n",
    "from sklearn import svm\n",
    "from sklearn.metrics import accuracy_score, precision_recall_fscore_support, roc_curve, auc\n",
    "from sklearn.model_selection import cross_val_predict"
   ]
  },
  {
   "cell_type": "markdown",
   "metadata": {},
   "source": [
    "### Convert gml to edgelist.csv. Optional."
   ]
  },
  {
   "cell_type": "code",
   "execution_count": 2,
   "metadata": {},
   "outputs": [],
   "source": [
    "def gml_to_edgelist(f):\n",
    "    g = nx.read_gml(f)\n",
    "    nx.write_edgelist(g, 'power.csv', delimiter=',')\n"
   ]
  },
  {
   "cell_type": "code",
   "execution_count": 3,
   "metadata": {},
   "outputs": [],
   "source": [
    "def load_data(path):\n",
    "    g = nx.read_edgelist(path, delimiter=',')\n",
    "    return g\n",
    "\n",
    "def generate_non_edge_list(g):\n",
    "    n = len(g.edges()) # Negative edge list size is same as positive list size\n",
    "    non_edges = []\n",
    "    for u in g.nodes():\n",
    "        for v in g.nodes():\n",
    "            if u == v: continue\n",
    "            if g.has_edge(u, v): continue\n",
    "            non_edges.append((u, v))\n",
    "    neg_sample = random.sample(non_edges, n)\n",
    "    return neg_sample\n",
    "\n",
    "def generate_class_labels(g, edges):\n",
    "    y = []\n",
    "    for edge in edges:\n",
    "        if g.has_edge(edge[0], edge[1]):\n",
    "            y.append(1)\n",
    "        else:\n",
    "            y.append(0)\n",
    "    return y"
   ]
  },
  {
   "cell_type": "markdown",
   "metadata": {},
   "source": [
    "### Implement features"
   ]
  },
  {
   "cell_type": "code",
   "execution_count": 4,
   "metadata": {},
   "outputs": [],
   "source": [
    "def adamic_adar(g, X):\n",
    "    preds = nx.adamic_adar_index(g, X)\n",
    "    lst = []\n",
    "    for u, v, p in preds:\n",
    "        lst.append(p)\n",
    "\n",
    "    max_p = max(lst)\n",
    "    return [x/max_p for x in lst]\n",
    "\n",
    "def jaccard(g, X):\n",
    "    preds = nx.jaccard_coefficient(g, X)\n",
    "    lst = []\n",
    "    for u, v, p in preds:\n",
    "        lst.append(p)\n",
    "\n",
    "    max_p = max(lst)\n",
    "    return [x/max_p for x in lst]\n",
    "\n",
    "def common_neighbors(g, X):\n",
    "    lst = []\n",
    "    for x in X:\n",
    "        cn = nx.common_neighbors(g, x[0], x[1])\n",
    "        lst.append(len(list(cn)))\n",
    "    max_p = float(max(lst))\n",
    "\n",
    "    return [x/max_p for x in lst]"
   ]
  },
  {
   "cell_type": "code",
   "execution_count": 5,
   "metadata": {},
   "outputs": [],
   "source": [
    "def concat_features(X, features):\n",
    "    lst = [[] for x in range(len(X))]\n",
    "    for feature in features:\n",
    "        for i in range(len(X)):\n",
    "            feature_value = feature[i]\n",
    "            lst[i].append(feature_value)\n",
    "    return lst"
   ]
  },
  {
   "cell_type": "markdown",
   "metadata": {},
   "source": [
    "### Load data"
   ]
  },
  {
   "cell_type": "code",
   "execution_count": 6,
   "metadata": {},
   "outputs": [],
   "source": [
    "g = load_data('power.csv')"
   ]
  },
  {
   "cell_type": "markdown",
   "metadata": {},
   "source": [
    "### List of positive edges"
   ]
  },
  {
   "cell_type": "code",
   "execution_count": 14,
   "metadata": {},
   "outputs": [
    {
     "name": "stdout",
     "output_type": "stream",
     "text": [
      "<class 'list'>\n"
     ]
    }
   ],
   "source": [
    "EDGES_POSITIVE = list(g.edges())"
   ]
  },
  {
   "cell_type": "markdown",
   "metadata": {},
   "source": [
    "### List of negative edges"
   ]
  },
  {
   "cell_type": "code",
   "execution_count": 12,
   "metadata": {},
   "outputs": [
    {
     "name": "stdout",
     "output_type": "stream",
     "text": [
      "<class 'list'>\n"
     ]
    }
   ],
   "source": [
    "EDGES_NEGATIVE = generate_non_edge_list(g)"
   ]
  },
  {
   "cell_type": "code",
   "execution_count": 15,
   "metadata": {},
   "outputs": [],
   "source": [
    "EDGES = EDGES_POSITIVE + EDGES_NEGATIVE\n",
    "random.shuffle(EDGES)\n",
    "\n",
    "Y = generate_class_labels(g, EDGES)\n",
    "\n",
    "feature1 = adamic_adar(g, EDGES)\n",
    "feature2 = jaccard(g, EDGES)\n",
    "feature3 = common_neighbors(g, EDGES)\n",
    "\n",
    "features = [feature1, feature2, feature3]\n",
    "feature_values = concat_features(EDGES, features)"
   ]
  },
  {
   "cell_type": "code",
   "execution_count": 18,
   "metadata": {},
   "outputs": [
    {
     "name": "stdout",
     "output_type": "stream",
     "text": [
      "Total nodes 4941\n",
      "Total edges 6594\n"
     ]
    }
   ],
   "source": [
    "print (\"Total nodes\", len(g.nodes()))\n",
    "print (\"Total edges\", len(g.edges()))"
   ]
  },
  {
   "cell_type": "markdown",
   "metadata": {},
   "source": [
    "### Training"
   ]
  },
  {
   "cell_type": "code",
   "execution_count": 19,
   "metadata": {},
   "outputs": [
    {
     "data": {
      "text/plain": [
       "MLPClassifier(activation='relu', alpha=1e-05, batch_size='auto', beta_1=0.9,\n",
       "       beta_2=0.999, early_stopping=False, epsilon=1e-08,\n",
       "       hidden_layer_sizes=(10, 10), learning_rate='constant',\n",
       "       learning_rate_init=0.001, max_iter=200, momentum=0.9,\n",
       "       nesterovs_momentum=True, power_t=0.5, random_state=1, shuffle=True,\n",
       "       solver='lbfgs', tol=0.0001, validation_fraction=0.1, verbose=False,\n",
       "       warm_start=False)"
      ]
     },
     "execution_count": 19,
     "metadata": {},
     "output_type": "execute_result"
    }
   ],
   "source": [
    "clf = MLPClassifier(solver='lbfgs', alpha=1e-5, hidden_layer_sizes=(10, 10), random_state=1)\n",
    "# clf = svm.SVC(kernel='rbf', random_state=0, gamma=1, C=1)\n",
    "clf.fit(feature_values, Y)"
   ]
  },
  {
   "cell_type": "code",
   "execution_count": 20,
   "metadata": {},
   "outputs": [],
   "source": [
    "### Validation"
   ]
  },
  {
   "cell_type": "code",
   "execution_count": 21,
   "metadata": {},
   "outputs": [],
   "source": [
    "pred = cross_val_predict(clf, feature_values, Y, cv=6)"
   ]
  },
  {
   "cell_type": "markdown",
   "metadata": {},
   "source": [
    "### Results"
   ]
  },
  {
   "cell_type": "code",
   "execution_count": 22,
   "metadata": {},
   "outputs": [
    {
     "name": "stdout",
     "output_type": "stream",
     "text": [
      "Accuracy: 0.603427358204\n",
      "Precision: 0.994920174165\n",
      "Recall: 0.207916287534\n",
      "f-score: 0.343953838435\n"
     ]
    }
   ],
   "source": [
    "print (\"Accuracy:\", accuracy_score(Y, pred))\n",
    "precision, recall, fscore, support = precision_recall_fscore_support(Y, pred, average='binary')\n",
    "print (\"Precision:\", precision)\n",
    "print (\"Recall:\", recall)\n",
    "print (\"f-score:\", fscore)"
   ]
  },
  {
   "cell_type": "code",
   "execution_count": null,
   "metadata": {},
   "outputs": [],
   "source": []
  }
 ],
 "metadata": {
  "kernelspec": {
   "display_name": "Python 2",
   "language": "python",
   "name": "python2"
  },
  "language_info": {
   "codemirror_mode": {
    "name": "ipython",
    "version": 3
   },
   "file_extension": ".py",
   "mimetype": "text/x-python",
   "name": "python",
   "nbconvert_exporter": "python",
   "pygments_lexer": "ipython3",
   "version": "3.6.0"
  }
 },
 "nbformat": 4,
 "nbformat_minor": 2
}
